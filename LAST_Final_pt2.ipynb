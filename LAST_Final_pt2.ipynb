{
  "nbformat": 4,
  "nbformat_minor": 0,
  "metadata": {
    "colab": {
      "provenance": []
    },
    "kernelspec": {
      "name": "python3",
      "display_name": "Python 3"
    },
    "language_info": {
      "name": "python"
    }
  },
  "cells": [
    {
      "cell_type": "code",
      "source": [
        "# Bresenham line algorithm\n",
        "# https://gist.github.com/flags/1132363\n",
        "\n",
        "# define a class for the Bresenham algorithm\n",
        "class bresenham:\n",
        "    # the constructor initializes the start and end points, the path of the line, and determines whether the line is steep or not\n",
        "    def __init__(self, start, end):\n",
        "        self.start = list(start)\n",
        "        self.end = list(end)\n",
        "        self.path = []\n",
        "\n",
        "        self.steep = abs(self.end[1]-self.start[1]) > abs(self.end[0]-self.start[0])\n",
        "\n",
        "        # if the line is steep, swap the x and y coordinates of the start and end points\n",
        "        if self.steep:\n",
        "            self.start = self.swap(self.start[0],self.start[1])\n",
        "            self.end = self.swap(self.end[0],self.end[1])\n",
        "\n",
        "        # if the start x coordinate is greater than the end x coordinate, swap the start and end points\n",
        "        if self.start[0] > self.end[0]:\n",
        "            _x0 = int(self.start[0])\n",
        "            _x1 = int(self.end[0])\n",
        "            self.start[0] = _x1\n",
        "            self.end[0] = _x0\n",
        "\n",
        "            # also swap the y coordinates of the start and end points\n",
        "            _y0 = int(self.start[1])\n",
        "            _y1 = int(self.end[1])\n",
        "            self.start[1] = _y1\n",
        "            self.end[1] = _y0\n",
        "\n",
        "        # calculate the differences in x and y coordinates and the error\n",
        "        dx = self.end[0] - self.start[0]\n",
        "        dy = abs(self.end[1] - self.start[1])\n",
        "        error = 0\n",
        "        derr = dy/float(dx)\n",
        "\n",
        "        # determine the direction to increment y\n",
        "        ystep = 0\n",
        "        y = self.start[1]\n",
        "\n",
        "        if self.start[1] < self.end[1]: ystep = 1\n",
        "        else: ystep = -1\n",
        "\n",
        "        # iterate over the x coordinates of the line\n",
        "        for x in range(self.start[0],self.end[0]+1):\n",
        "            # if the line is steep, append the coordinates with x and y swapped, otherwise append normally\n",
        "            if self.steep:\n",
        "                self.path.append((y,x))\n",
        "            else:\n",
        "                self.path.append((x,y))\n",
        "\n",
        "            # update the error and increment y if necessary\n",
        "            error += derr\n",
        "\n",
        "            if error >= 0.5:\n",
        "                y += ystep\n",
        "                error -= 1.0\n",
        "\n",
        "    # helper function to swap two values\n",
        "    def swap(self,n1,n2):\n",
        "        return [n2,n1]\n",
        "\n",
        "# define a test function\n",
        "def test():\n",
        "    # create a Bresenham line from [8,1] to [6,4]\n",
        "    l = bresenham([8,1],[6,4])\n",
        "    # print the path of the line\n",
        "    print(l.path)\n",
        "\n",
        "    # create a 15x15 grid of '#' characters\n",
        "    map = []\n",
        "    for x in range(0,15):\n",
        "        yc = []\n",
        "        for y in range(0,15):\n",
        "            yc.append('#')\n",
        "        map.append(yc)\n",
        "\n",
        "    # mark the path of the line with '.'\n",
        "    for pos in l.path:\n",
        "        map[pos[0]][pos[1]] = '.'\n",
        "\n",
        "    # print the resulting grid\n",
        "    for y in range(0,15):\n",
        "        for x in range(0,15):\n",
        "            print(map[x][y], end=' ')\n",
        "    print()"
      ],
      "metadata": {
        "id": "SVMLBjtq1cuu"
      },
      "execution_count": 144,
      "outputs": []
    },
    {
      "cell_type": "code",
      "source": [
        "# Bresenham circle algorithm\n",
        "# https://www.daniweb.com/programming/software-development/threads/321181/python-bresenham-circle-arc-algorithm\n",
        "\n",
        "def circle(radius):\n",
        "    # initialize variables\n",
        "    switch = 3 - (2 * radius) # Determines the first pixel position\n",
        "    points = set() # A set to store the points in the circle\n",
        "    x = 0\n",
        "    y = radius\n",
        "\n",
        "    # The following loop covers the first quarter of the circle and the other quarters are obtained by symmetry\n",
        "\n",
        "    # while x is less than or equal to y (meaning that the circle is not complete yet)\n",
        "    while x <= y:\n",
        "        # first quarter, first octant (clockwise at 12 o'clock)\n",
        "        points.add((x,-y))\n",
        "        # first quarter, second octant\n",
        "        points.add((y,-x))\n",
        "        # second quarter, third octant\n",
        "        points.add((y,x))\n",
        "        # second quarter, fourth octant\n",
        "        points.add((x,y))\n",
        "        # third quarter, fifth octant\n",
        "        points.add((-x,y))\n",
        "        # third quarter, sixth octant\n",
        "        points.add((-y,x))\n",
        "        # fourth quarter, seventh octant\n",
        "        points.add((-y,-x))\n",
        "        # fourth quarter, eighth octant\n",
        "        points.add((-x,-y))\n",
        "\n",
        "        # calculate the next pixel position by updating x and y\n",
        "        if switch < 0:\n",
        "            # if the decision variable (switch) is negative, the current pixel is inside the circle\n",
        "            switch = switch + (4 * x) + 6 # update the decision variable\n",
        "        else:\n",
        "            # if the decision variable is non-negative, the current pixel is outside the circle\n",
        "            switch = switch + (4 * (x - y)) + 10 # update the decision variable\n",
        "            y = y - 1 # move to the next row\n",
        "\n",
        "        x = x + 1 # move to the next column\n",
        "\n",
        "    return points # return the set of points in the circle"
      ],
      "metadata": {
        "id": "KU0KVo8Q2G-p"
      },
      "execution_count": 145,
      "outputs": []
    },
    {
      "cell_type": "code",
      "source": [
        "from google.colab import drive\n",
        "drive.mount('/content/drive')"
      ],
      "metadata": {
        "colab": {
          "base_uri": "https://localhost:8080/"
        },
        "id": "XGhihL03Tkcg",
        "outputId": "a009e8dd-23d7-41c0-d10c-8602ef621096"
      },
      "execution_count": 146,
      "outputs": [
        {
          "output_type": "stream",
          "name": "stdout",
          "text": [
            "Drive already mounted at /content/drive; to attempt to forcibly remount, call drive.mount(\"/content/drive\", force_remount=True).\n"
          ]
        }
      ]
    },
    {
      "cell_type": "code",
      "source": [
        "import sys\n",
        "import numpy as np\n",
        "import scipy\n",
        "import scipy.sparse\n",
        "import scipy.sparse.linalg\n",
        "from scipy.sparse import csr_matrix\n",
        "from imageio import imread, imsave \n",
        "from skimage.transform import resize as imresize\n",
        "from skimage import io, color, transform\n",
        "from skimage.color import rgb2gray\n",
        "import matplotlib.image as mpimg\n",
        "import matplotlib.pyplot as plt\n",
        "import cv2\n",
        "import imageio.v2\n",
        "import math\n",
        "from collections import defaultdict\n",
        "from PIL import Image"
      ],
      "metadata": {
        "id": "7KSV9JoLmlC4"
      },
      "execution_count": 147,
      "outputs": []
    },
    {
      "cell_type": "code",
      "source": [
        "def image(filename, size):\n",
        "    \n",
        "    # load the image from the specified file\n",
        "    img = io.imread(filename)\n",
        "\n",
        "    # if the loaded image has 2 dimensions\n",
        "    # the function assumes it is a grayscale image \n",
        "    # and creates a new 3-dimensional numpy array with the grayscale image repeated 3 times\n",
        "    if img.ndim == 2:  # grayscale image\n",
        "        img_rgb = np.stack((img,) * 3, axis=-1)\n",
        "\n",
        "        # if the loaded image has 3 dimensions and the last dimension has size 3\n",
        "        # the function assumes it is a color image and assigns it to the variable img_rgb\n",
        "    elif img.ndim == 3 and img.shape[-1] == 3:  # color image\n",
        "        img_rgb = img\n",
        "\n",
        "        # if the loaded image has a different number of dimensions or the last dimension does not have size 3\n",
        "        # the function raises a ValueError\n",
        "    else:\n",
        "        raise ValueError(\"Unsupported image format\")\n",
        "\n",
        "        # then resizes the image to the specified size using skimage.transform.resize\n",
        "        # the resulting image is returned as a numpy array\n",
        "    img_resized = imresize(img_rgb, (size, size), anti_aliasing=True)\n",
        "    \n",
        "    return img_resized"
      ],
      "metadata": {
        "id": "P8yRXGMU5hZ5"
      },
      "execution_count": 148,
      "outputs": []
    },
    {
      "cell_type": "code",
      "source": [
        "# The function build_arc_adjecency_matrix takes two arguments: n and radius\n",
        "def build_arc_adjecency_matrix(n, radius):\n",
        "\n",
        "    # The string \"building sparse adjecency matrix\" is printed to the console\n",
        "    print(\"building sparse adjecency matrix\")\n",
        "\n",
        "    # An array hooks is created using a list comprehension that contains the coordinates of equally-spaced points on a unit circle\n",
        "    # The cos and sin functions from the math module are used to calculate the coordinates\n",
        "    # The range function is used to generate the indices of the points on the circle\n",
        "    # The n parameter specifies the number of points\n",
        "    hooks = np.array([[math.cos(np.pi*2*i/n), math.sin(np.pi*2*i/n)] for i in range(n)])\n",
        "\n",
        "    # The hooks array is multiplied by the radius variable and then cast to an array of integers\n",
        "    hooks = (radius * hooks).astype(int)\n",
        "\n",
        "    # Three empty lists edge_codes, row_ind, and col_ind are created\n",
        "    edge_codes = []\n",
        "    row_ind = []\n",
        "    col_ind = []\n",
        "\n",
        "    # A nested loop is used to iterate over pairs of points in the hooks array\n",
        "    # The outer loop iterates over the indices and coordinates of the first point, while the inner loop iterates over the indices and coordinates of the second point\n",
        "    for i, ni in enumerate(hooks):\n",
        "        for j, nj in enumerate(hooks[i+1:], start=i+1):\n",
        "\n",
        "            # For each pair of points, a tuple representing an edge is appended to the edge_codes list\n",
        "            edge_codes.append((i, j))\n",
        "\n",
        "            # The bresenham function is called with the coordinates of the two points to generate a list of pixels that lie on the line between the two points\n",
        "            # The path attribute of the resulting Line object is used to extract the list of pixels\n",
        "            pixels = bresenham(ni, nj).path\n",
        "\n",
        "            edge = []\n",
        "\n",
        "            # For each pixel on the line, a unique integer code is generated by adding the row and column indices to the appropriate offsets and appending the resulting code to the edge list\n",
        "            for pixel in pixels:\n",
        "                pixel_code = (pixel[1]+radius)*(radius*2+1) + (pixel[0]+radius)\n",
        "                edge.append(pixel_code)\n",
        "            # The edge list is concatenated with the row_ind list, and the index of the corresponding edge is appended to the col_ind list for each element of the edge list\n",
        "            row_ind += edge\n",
        "            col_ind += [len(edge_codes)-1] * len(edge)\n",
        "\n",
        "    # A sparse matrix sparse is created using the csr_matrix function from the scipy.sparse module\n",
        "    # The values of the matrix are all 1.0, and the rows and columns are indexed using the row_ind and col_ind lists, respectively\n",
        "    # The shape of the matrix is (2*radius+1)*(2*radius+1) by len(edge_codes)\n",
        "    sparse = scipy.sparse.csr_matrix(([1.0]*len(row_ind), (row_ind, col_ind)), shape=((2*radius+1)*(2*radius+1), len(edge_codes)))\n",
        "\n",
        "    # The function returns a tuple containing the sparse matrix sparse, the hooks array, and the edge_codes list\n",
        "    return sparse, hooks, edge_codes"
      ],
      "metadata": {
        "id": "EGfVi7kHm8Hp"
      },
      "execution_count": 149,
      "outputs": []
    },
    {
      "cell_type": "code",
      "source": [
        "def build_circle_adjecency_matrix(radius, small_radius):\n",
        "    # Print statement to indicate the start of matrix building\n",
        "    print(\"building sparse adjecency matrix\")\n",
        "    \n",
        "    # Empty lists to store row, column, and edge codes\n",
        "    edge_codes = []\n",
        "    row_ind = []\n",
        "    col_ind = []\n",
        "    \n",
        "    # Retrieve the pixels for a small circle\n",
        "    pixels = circle(small_radius)\n",
        "    \n",
        "    # Iterate over the centers of each circle of the given radius\n",
        "    for i, cx in enumerate(range(-radius+small_radius+1, radius-small_radius-1, 1)):\n",
        "        for j, cy in enumerate(range(-radius+small_radius+1, radius-small_radius-1, 1)):\n",
        "            \n",
        "            # Add edge code to list\n",
        "            edge_codes.append((i, j))\n",
        "            \n",
        "            # Create empty list to store pixels in this edge\n",
        "            edge = []\n",
        "            \n",
        "            # Iterate over pixels in the small circle and calculate their pixel codes\n",
        "            for pixel in pixels:\n",
        "                px, py = cx+pixel[0], cy+pixel[1]\n",
        "                pixel_code = (py+radius)*(radius*2+1) + (px+radius)\n",
        "                edge.append(pixel_code)\n",
        "            \n",
        "            # Add pixel codes and edge code to the respective lists\n",
        "            row_ind += edge\n",
        "            col_ind += [len(edge_codes)-1] * len(edge)\n",
        "    \n",
        "    # creating the edge-pixel adjacency matrix:\n",
        "    # rows are indexed with pixel codes, columns are indexed with edge codes.\n",
        "    sparse = scipy.sparse.csr_matrix(([1.0]*len(row_ind), (row_ind, col_ind)), shape=((2*radius+1)*(2*radius+1), len(edge_codes)))\n",
        "    \n",
        "    # Create empty list to store hooks\n",
        "    hooks = []\n",
        "    \n",
        "    # Return the adjacency matrix, hooks, and edge codes\n",
        "    return sparse, hooks, edge_codes"
      ],
      "metadata": {
        "id": "W4CcpbPGnAxi"
      },
      "execution_count": 150,
      "outputs": []
    },
    {
      "cell_type": "code",
      "source": [
        "def build_image_vector(img, radius):\n",
        "    # representing the input image as a sparse column vector of pixels:\n",
        "    assert img.shape[0] == img.shape[1]  # ensure the input image is square\n",
        "    img_size = img.shape[0]  # get the size of the input image\n",
        "    row_ind = []  # initialize a list to store row indices\n",
        "    col_ind = []  # initialize a list to store column indices\n",
        "    data = []  # initialize a list to store pixel values\n",
        "    for y, line in enumerate(img):  # iterate over each line (row) in the image\n",
        "        for x, pixel_value in enumerate(line):  # iterate over each pixel in the line (row)\n",
        "            global_x = x - img_size//2  # get the global x-coordinate of the pixel\n",
        "            global_y = y - img_size//2  # get the global y-coordinate of the pixel\n",
        "            pixel_code = (global_y+radius)*(radius*2+1) + (global_x+radius)  # calculate the code of the pixel\n",
        "            data.append(float(pixel_value[0])) # add the pixel value to the data list\n",
        "            row_ind.append(pixel_code)  # add the pixel code to the row index list\n",
        "            col_ind.append(0)  # add 0 as the column index (all pixels will be in the same column)\n",
        "    sparse_b = scipy.sparse.csr_matrix((data, (row_ind, col_ind)), shape=((2*radius+1)*(2*radius+1), 1))  # create a sparse column vector from the data, row indices, and column indices\n",
        "    return sparse_b  # return the sparse column vector representing the input image"
      ],
      "metadata": {
        "id": "BJKUce7tnGlt"
      },
      "execution_count": 151,
      "outputs": []
    },
    {
      "cell_type": "code",
      "source": [
        "  # Function named reconstruct that takes three inputs\n",
        "  # x: a numpy array that represents a compressed image\n",
        "  # sparse: a scipy sparse matrix that represents the edge-pixel adjacency matrix for a given radius\n",
        "  # radius: an integer representing the radius used to build the sparse matrix and image vector\n",
        "def reconstruct(x, sparse, radius):\n",
        "    \n",
        "    # Using the sparse matrix to approximate the original image vector b by multiplying it with x, the compressed image\n",
        "    # The result is a numpy array called b_approx\n",
        "    b_approx = sparse.dot(x)\n",
        "\n",
        "    # Next is to reshape b_approx into a 2D array with dimensions (2*radius+1, 2*radius+1) using the reshape method\n",
        "    b_image = b_approx.reshape((2*radius+1, 2*radius+1))\n",
        "\n",
        "    # the resulting image is clipped between 0 and 255 to ensure that all pixel values are within the valid range of a grayscale image\n",
        "    b_image = np.clip(b_image, 0, 255)\n",
        "\n",
        "    # The function returns the reconstructed image\n",
        "    return b_image"
      ],
      "metadata": {
        "id": "IcoSCZfZnK1G"
      },
      "execution_count": 152,
      "outputs": []
    },
    {
      "cell_type": "code",
      "source": [
        "# This function takes in four parameters:\n",
        "# x: a NumPy array that contains the data to be reconstructed\n",
        "# sparse: a sparse matrix containing the adjacency matrix\n",
        "# radius: an integer representing the radius of the circle used to create the adjacency matrix\n",
        "# filename: a string representing the filename to save the reconstructed image\n",
        "def reconstruct_and_save(x, sparse, radius, output_filename):\n",
        "\n",
        "    # Set the brightness correction factor\n",
        "    brightness_correction = 1.2\n",
        "\n",
        "    # Reconstruct the image from the sparse matrix and the input data\n",
        "    b_image = reconstruct(x * brightness_correction, sparse, radius)\n",
        "\n",
        "    # Save the reconstructed image to the output file\n",
        "    imsave(output_filename, b_image)"
      ],
      "metadata": {
        "id": "jrJkgSQdO0Qn"
      },
      "execution_count": 153,
      "outputs": []
    },
    {
      "cell_type": "code",
      "source": [
        "def main():\n",
        "    input_filename = input(\"Enter the input image filename: \")\n",
        "    output_prefix = input(\"Enter the output filename prefix: \")\n",
        "\n",
        "    # sets the values for two parameters, n and radius\n",
        "    n = 180\n",
        "    radius = 250\n",
        "\n",
        "    # calls build_arc_adjacency_matrix to construct the adjacency matrix for the arc graph with n nodes and a circle with 'radius'\n",
        "    sparse, hooks, edge_codes = build_arc_adjecency_matrix(n, radius)\n",
        "\n",
        "    # loads the input image and resizes it to a square image with sides equal to 75% of the circle's diameter\n",
        "    # it then constructs a sparse column vector sparse_b that represents the image\n",
        "    shrinkage = 0.75\n",
        "    img = image(input_filename, int(radius * 2 * shrinkage))\n",
        "    sparse_b = build_image_vector(img, radius)\n",
        "\n",
        "    # calls scipy.sparse.linalg.lsqr to solve the linear system of equations sparse * x = sparse_b\n",
        "    print(\"solving linear system\")\n",
        "    result = scipy.sparse.linalg.lsqr(sparse, np.array(sparse_b.todense()).flatten())\n",
        "    print(\"done\")\n",
        "    x = result[0]\n",
        "\n",
        "    # passes the resulting x vector to reconstruct_and_save along with the adjacency matrix sparse, the radius\n",
        "    # the output filename prefix to save the reconstructed image as a PNG file\n",
        "    # the reconstructed image is also multiplied by a brightness correction factor of 1.2 before being saved\n",
        "    reconstruct_and_save(x, sparse, radius, output_prefix+\"-STRING.png\")\n",
        "\n",
        "main()"
      ],
      "metadata": {
        "colab": {
          "base_uri": "https://localhost:8080/"
        },
        "id": "dg8wAXBx5IYA",
        "outputId": "6c35e729-9cc0-40b0-a018-a1b19953f422"
      },
      "execution_count": 154,
      "outputs": [
        {
          "output_type": "stream",
          "name": "stdout",
          "text": [
            "Enter the input image filename: drive/My Drive/ComputerVision/Final Project/Star.jpeg\n",
            "Enter the output filename prefix: drive/My Drive/ComputerVision/Final Project/ULTRASTAR.jpg\n",
            "building sparse adjecency matrix\n",
            "solving linear system\n"
          ]
        },
        {
          "output_type": "stream",
          "name": "stderr",
          "text": [
            "WARNING:imageio:Lossy conversion from float64 to uint8. Range [0.0, 3.057800252083104]. Convert image to uint8 prior to saving to suppress this warning.\n"
          ]
        },
        {
          "output_type": "stream",
          "name": "stdout",
          "text": [
            "done\n"
          ]
        }
      ]
    }
  ]
}